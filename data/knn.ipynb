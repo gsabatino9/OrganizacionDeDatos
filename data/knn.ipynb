{
  "nbformat": 4,
  "nbformat_minor": 0,
  "metadata": {
    "colab": {
      "name": "knn.ipynb",
      "provenance": []
    },
    "kernelspec": {
      "name": "python3",
      "display_name": "Python 3"
    },
    "language_info": {
      "name": "python"
    }
  },
  "cells": [
    {
      "cell_type": "markdown",
      "metadata": {
        "id": "StdP_DH5JtA_"
      },
      "source": [
        "# Lectura de archivos"
      ]
    },
    {
      "cell_type": "code",
      "metadata": {
        "id": "8ZQIiL78JtBB"
      },
      "source": [
        "%matplotlib inline\n",
        "from pathlib import Path\n",
        "import numpy as np\n",
        "import pandas as pd\n",
        "import matplotlib.pyplot as plt\n",
        "import seaborn as sns"
      ],
      "execution_count": 1,
      "outputs": []
    },
    {
      "cell_type": "code",
      "metadata": {
        "id": "xyTPKKPWJtBC"
      },
      "source": [
        "from pydrive.auth import GoogleAuth\n",
        "from pydrive.drive import GoogleDrive\n",
        "from google.colab import auth\n",
        "from oauth2client.client import GoogleCredentials\n",
        "\n",
        "# Authenticate and create the PyDrive client\n",
        "auth.authenticate_user()\n",
        "gauth = GoogleAuth()\n",
        "gauth.credentials = GoogleCredentials.get_application_default()\n",
        "drive = GoogleDrive(gauth)"
      ],
      "execution_count": 2,
      "outputs": []
    },
    {
      "cell_type": "code",
      "metadata": {
        "id": "GxM0NqvVJwJJ"
      },
      "source": [
        "id='1RUtolRcQlR3RGULttM4ZoQaK_Ouow4gc'\n",
        "downloaded = drive.CreateFile({'id': id})\n",
        "downloaded.GetContentFile('train_labels.csv')\n",
        "train_labels = pd.read_csv('train_labels.csv', encoding='latin-1', dtype={'building_id': 'int64', 'damage_grade': 'int64'})"
      ],
      "execution_count": 3,
      "outputs": []
    },
    {
      "cell_type": "code",
      "metadata": {
        "id": "1IXVJp0Mncmx"
      },
      "source": [
        "id='1b1PsxNDyiTkPNxAI-KDrN_wnoEc5XH2e'\n",
        "downloaded = drive.CreateFile({'id': id})\n",
        "downloaded.GetContentFile('train_values_selected_features.csv')\n",
        "train_values = pd.read_csv('train_values_selected_features.csv')"
      ],
      "execution_count": 4,
      "outputs": []
    },
    {
      "cell_type": "code",
      "metadata": {
        "id": "GTzIjt66QbCw"
      },
      "source": [
        "id='1dyLAYyxjQp8JlKDci1o3WS0_TzgBw7lz'\n",
        "downloaded = drive.CreateFile({'id': id})\n",
        "downloaded.GetContentFile('test_values_selected_features.csv')\n",
        "test_values = pd.read_csv('test_values_selected_features.csv')"
      ],
      "execution_count": 5,
      "outputs": []
    },
    {
      "cell_type": "code",
      "metadata": {
        "id": "MUckn8F77pBU"
      },
      "source": [
        "train_values.set_index('building_id', inplace=True)\n",
        "train_labels.set_index('building_id', inplace=True)\n",
        "test_values.set_index('building_id', inplace=True)"
      ],
      "execution_count": 6,
      "outputs": []
    },
    {
      "cell_type": "code",
      "metadata": {
        "colab": {
          "base_uri": "https://localhost:8080/"
        },
        "id": "BQaZQUHTQriG",
        "outputId": "59e6a5b3-a6da-4079-a3b1-759136716e4f"
      },
      "source": [
        "print(train_values.shape)\n",
        "print(train_labels.shape)\n",
        "print(test_values.shape)"
      ],
      "execution_count": 7,
      "outputs": [
        {
          "output_type": "stream",
          "text": [
            "(260601, 30)\n",
            "(260601, 1)\n",
            "(86868, 30)\n"
          ],
          "name": "stdout"
        }
      ]
    },
    {
      "cell_type": "markdown",
      "metadata": {
        "id": "etD-p4_jnF5Q"
      },
      "source": [
        "# KNN"
      ]
    },
    {
      "cell_type": "markdown",
      "metadata": {
        "id": "Cygxu64zSLOc"
      },
      "source": [
        "Jugar un poquito con los hiper-parámetros o meter un grid search o algo."
      ]
    },
    {
      "cell_type": "markdown",
      "metadata": {
        "id": "-1Pv5FlMUsS-"
      },
      "source": [
        "También podemos poner como h-p el weight='distance' que le asigna menor peso a los que están a distancia más lejana"
      ]
    },
    {
      "cell_type": "markdown",
      "metadata": {
        "id": "TDw-bSgRVCmn"
      },
      "source": [
        "Más en: https://scikit-learn.org/stable/modules/generated/sklearn.neighbors.KNeighborsClassifier.html"
      ]
    },
    {
      "cell_type": "code",
      "metadata": {
        "id": "q8Vm-AsJ_4Qr"
      },
      "source": [
        "from sklearn.metrics import f1_score\n",
        "from sklearn.neighbors import KNeighborsClassifier\n",
        "from sklearn import preprocessing"
      ],
      "execution_count": 8,
      "outputs": []
    },
    {
      "cell_type": "markdown",
      "metadata": {
        "id": "3SlC5L5ZXb2c"
      },
      "source": [
        "Escalamos los datos, importantísimo para KNN (tanto los de train como los de test, sino no tiene sentido)"
      ]
    },
    {
      "cell_type": "code",
      "metadata": {
        "id": "YmgVp9BmRFDt"
      },
      "source": [
        "min_max_scaler = preprocessing.MinMaxScaler()\n",
        "x_train_scaled = min_max_scaler.fit_transform(train_values)\n",
        "x_test_scaled = min_max_scaler.fit_transform(test_values)"
      ],
      "execution_count": 9,
      "outputs": []
    },
    {
      "cell_type": "code",
      "metadata": {
        "colab": {
          "base_uri": "https://localhost:8080/"
        },
        "id": "lxCFSPrw-jUc",
        "outputId": "0beeed92-1e5d-4983-d44e-da8d12a3e2cd"
      },
      "source": [
        "k_neighboors = KNeighborsClassifier(n_neighbors=10)\n",
        "k_neighboors.fit(x_train_scaled, train_labels)"
      ],
      "execution_count": 10,
      "outputs": [
        {
          "output_type": "stream",
          "text": [
            "/usr/local/lib/python3.7/dist-packages/ipykernel_launcher.py:2: DataConversionWarning: A column-vector y was passed when a 1d array was expected. Please change the shape of y to (n_samples, ), for example using ravel().\n",
            "  \n"
          ],
          "name": "stderr"
        },
        {
          "output_type": "execute_result",
          "data": {
            "text/plain": [
              "KNeighborsClassifier(algorithm='auto', leaf_size=30, metric='minkowski',\n",
              "                     metric_params=None, n_jobs=None, n_neighbors=10, p=2,\n",
              "                     weights='uniform')"
            ]
          },
          "metadata": {
            "tags": []
          },
          "execution_count": 10
        }
      ]
    },
    {
      "cell_type": "code",
      "metadata": {
        "id": "qsAcXFJYF4fo",
        "colab": {
          "base_uri": "https://localhost:8080/"
        },
        "outputId": "58e4267c-6082-46ea-a28b-02f9bb60fd13"
      },
      "source": [
        "predictions = k_neighboors.predict(x_test_scaled)\n",
        "predictions"
      ],
      "execution_count": 11,
      "outputs": [
        {
          "output_type": "execute_result",
          "data": {
            "text/plain": [
              "array([3, 2, 2, ..., 2, 3, 2])"
            ]
          },
          "metadata": {
            "tags": []
          },
          "execution_count": 11
        }
      ]
    },
    {
      "cell_type": "markdown",
      "metadata": {
        "id": "lvmA_P6lSV-V"
      },
      "source": [
        "#Submission"
      ]
    },
    {
      "cell_type": "code",
      "metadata": {
        "id": "bsMhko0QSY2m"
      },
      "source": [
        "id = '1NAgGKhUi6tYqhe2yZ9HV9AvzbX-3sJ_B'\n",
        "downloaded = drive.CreateFile({'id': id})\n",
        "downloaded.GetContentFile('submission_format.csv')\n",
        "submission_format = pd.read_csv('submission_format.csv', index_col='building_id')"
      ],
      "execution_count": 12,
      "outputs": []
    },
    {
      "cell_type": "code",
      "metadata": {
        "id": "5f6WNWj8KwvN",
        "colab": {
          "base_uri": "https://localhost:8080/",
          "height": 235
        },
        "outputId": "f029330b-ca2e-4594-d21b-ef16bafb5b08"
      },
      "source": [
        "my_submission = pd.DataFrame(data=predictions,\n",
        "                             columns=submission_format.columns,\n",
        "                             index=submission_format.index)\n",
        "my_submission.head()"
      ],
      "execution_count": 13,
      "outputs": [
        {
          "output_type": "execute_result",
          "data": {
            "text/html": [
              "<div>\n",
              "<style scoped>\n",
              "    .dataframe tbody tr th:only-of-type {\n",
              "        vertical-align: middle;\n",
              "    }\n",
              "\n",
              "    .dataframe tbody tr th {\n",
              "        vertical-align: top;\n",
              "    }\n",
              "\n",
              "    .dataframe thead th {\n",
              "        text-align: right;\n",
              "    }\n",
              "</style>\n",
              "<table border=\"1\" class=\"dataframe\">\n",
              "  <thead>\n",
              "    <tr style=\"text-align: right;\">\n",
              "      <th></th>\n",
              "      <th>damage_grade</th>\n",
              "    </tr>\n",
              "    <tr>\n",
              "      <th>building_id</th>\n",
              "      <th></th>\n",
              "    </tr>\n",
              "  </thead>\n",
              "  <tbody>\n",
              "    <tr>\n",
              "      <th>300051</th>\n",
              "      <td>3</td>\n",
              "    </tr>\n",
              "    <tr>\n",
              "      <th>99355</th>\n",
              "      <td>2</td>\n",
              "    </tr>\n",
              "    <tr>\n",
              "      <th>890251</th>\n",
              "      <td>2</td>\n",
              "    </tr>\n",
              "    <tr>\n",
              "      <th>745817</th>\n",
              "      <td>2</td>\n",
              "    </tr>\n",
              "    <tr>\n",
              "      <th>421793</th>\n",
              "      <td>3</td>\n",
              "    </tr>\n",
              "  </tbody>\n",
              "</table>\n",
              "</div>"
            ],
            "text/plain": [
              "             damage_grade\n",
              "building_id              \n",
              "300051                  3\n",
              "99355                   2\n",
              "890251                  2\n",
              "745817                  2\n",
              "421793                  3"
            ]
          },
          "metadata": {
            "tags": []
          },
          "execution_count": 13
        }
      ]
    },
    {
      "cell_type": "code",
      "metadata": {
        "id": "oGHWgh0QKz-C"
      },
      "source": [
        "my_submission.to_csv('knn_submission.csv')"
      ],
      "execution_count": 14,
      "outputs": []
    },
    {
      "cell_type": "markdown",
      "metadata": {
        "id": "cxWRq6WXT85i"
      },
      "source": [
        "#Conclusión"
      ]
    },
    {
      "cell_type": "markdown",
      "metadata": {
        "id": "Pv0nJ7ejT_Jc"
      },
      "source": [
        "No es costoso pero no arroja buenos resultados. Para eliminar outliers puede estar muy bueno."
      ]
    }
  ]
}