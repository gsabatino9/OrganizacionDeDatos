{
  "nbformat": 4,
  "nbformat_minor": 0,
  "metadata": {
    "colab": {
      "name": "feature_engineering.ipynb",
      "provenance": []
    },
    "kernelspec": {
      "display_name": "Python 3",
      "language": "python",
      "name": "python3"
    },
    "language_info": {
      "codemirror_mode": {
        "name": "ipython",
        "version": 3
      },
      "file_extension": ".py",
      "mimetype": "text/x-python",
      "name": "python",
      "nbconvert_exporter": "python",
      "pygments_lexer": "ipython3",
      "version": "3.6.9"
    }
  },
  "cells": [
    {
      "cell_type": "markdown",
      "metadata": {
        "id": "StdP_DH5JtA_"
      },
      "source": [
        "# Lectura de archivos"
      ]
    },
    {
      "cell_type": "code",
      "metadata": {
        "id": "8ZQIiL78JtBB"
      },
      "source": [
        "%matplotlib inline\n",
        "from pathlib import Path\n",
        "import numpy as np\n",
        "import pandas as pd\n",
        "import matplotlib.pyplot as plt\n",
        "import seaborn as sns"
      ],
      "execution_count": 1,
      "outputs": []
    },
    {
      "cell_type": "code",
      "metadata": {
        "id": "xyTPKKPWJtBC"
      },
      "source": [
        "from pydrive.auth import GoogleAuth\n",
        "from pydrive.drive import GoogleDrive\n",
        "from google.colab import auth\n",
        "from oauth2client.client import GoogleCredentials\n",
        "\n",
        "# Authenticate and create the PyDrive client\n",
        "auth.authenticate_user()\n",
        "gauth = GoogleAuth()\n",
        "gauth.credentials = GoogleCredentials.get_application_default()\n",
        "drive = GoogleDrive(gauth)"
      ],
      "execution_count": 2,
      "outputs": []
    },
    {
      "cell_type": "code",
      "metadata": {
        "id": "FLuNL276JwJH"
      },
      "source": [
        "id='1RUtolRcQlR3RGULttM4ZoQaK_Ouow4gc'\n",
        "downloaded = drive.CreateFile({'id': id})\n",
        "downloaded.GetContentFile('train_labels.csv')"
      ],
      "execution_count": 3,
      "outputs": []
    },
    {
      "cell_type": "code",
      "metadata": {
        "id": "mjZ7nyE_JwJI"
      },
      "source": [
        "train_labels = pd.read_csv('train_labels.csv', encoding='latin-1', dtype={'building_id': 'int64', 'damage_grade': 'int64'}, index_col='building_id')"
      ],
      "execution_count": 4,
      "outputs": []
    },
    {
      "cell_type": "code",
      "metadata": {
        "id": "GxM0NqvVJwJJ"
      },
      "source": [
        "##1RUtolRcQlR3RGULttM4ZoQaK_Ouow4gc\n",
        "id='1br3fMwXX_J0XmiXvOm_wfKWvHSj45T3y'\n",
        "downloaded = drive.CreateFile({'id': id})\n",
        "downloaded.GetContentFile('train_values.csv')"
      ],
      "execution_count": 5,
      "outputs": []
    },
    {
      "cell_type": "code",
      "metadata": {
        "id": "RAaVu3rmJwJK"
      },
      "source": [
        "train_values = pd.read_csv('train_values.csv', encoding='latin-1', dtype = {'building_id': 'int64', 'geo_level_2_id': 'int64', 'geo_level_3_id': 'int64',\\\n",
        "                                                                           'count_floors_pre_eq': 'int64', 'age': 'int64', 'area_percentage': 'int64', \\\n",
        "                                                                           'height_percentage': 'int64', 'land_surface_condition': 'category',\\\n",
        "                                                                           'foundation_type': 'category', 'roof_type': 'category', 'ground_floor_type': 'category',\\\n",
        "                                                                           'other_floor_type': 'category', 'position': 'category', 'plan_configuration': 'category',\\\n",
        "                                                                           'has_superstructure_adobe_mud': 'boolean', 'has_superstructure_mud_mortar_stone': 'boolean', \\\n",
        "                                                                           'has_superstructure_stone_flag': 'boolean', 'has_superstructure_cement_mortar_stone': 'boolean',\\\n",
        "                                                                           'has_superstructure_mud_mortar_brick': 'boolean', 'has_superstructure_cement_mortar_brick': 'boolean',\\\n",
        "                                                                           'has_superstructure_timber': 'boolean', 'has_superstructure_bamboo': 'boolean',\\\n",
        "                                                                           'has_superstructure_rc_non_engineered': 'boolean', 'has_superstructure_rc_engineered': 'boolean',\\\n",
        "                                                                           'has_superstructure_other': 'boolean', 'legal_ownership_status': 'category', 'count_families': 'int64', \\\n",
        "                                                                           'has_secondary_use': 'boolean', 'has_secondary_use_agriculture': 'boolean', 'has_secondary_use_hotel': 'boolean', \\\n",
        "                                                                           'has_secondary_use_rental': 'boolean', 'has_secondary_use_institution': 'boolean', 'has_secondary_use_school': 'boolean',\\\n",
        "                                                                           'has_secondary_use_industry': 'boolean', 'has_secondary_use_health_post': 'boolean', \\\n",
        "                                                                           'has_secondary_use_gov_office': 'boolean', 'has_secondary_use_use_police': 'boolean', 'has_secondary_use_other': 'boolean'}, index_col='building_id')"
      ],
      "execution_count": 6,
      "outputs": []
    },
    {
      "cell_type": "code",
      "metadata": {
        "id": "IU8kegeRJwJK"
      },
      "source": [
        "id = '1kt2VFhgpfRS72wtBOBy1KDat9LanfMZU'\n",
        "downloaded = drive.CreateFile({'id': id})\n",
        "downloaded.GetContentFile('test_values.csv')"
      ],
      "execution_count": 7,
      "outputs": []
    },
    {
      "cell_type": "code",
      "metadata": {
        "id": "IBic7LE_JwJL"
      },
      "source": [
        "test_values = pd.read_csv('test_values.csv', encoding='latin-1', dtype = {'building_id': 'int64', 'geo_level_2_id': 'int64', 'geo_level_3_id': 'int64',\\\n",
        "                                                                           'count_floors_pre_eq': 'int64', 'age': 'int64', 'area_percentage': 'int64', \\\n",
        "                                                                           'height_percentage': 'int64', 'land_surface_condition': 'category',\\\n",
        "                                                                           'foundation_type': 'category', 'roof_type': 'category', 'ground_floor_type': 'category',\\\n",
        "                                                                           'other_floor_type': 'category', 'position': 'category', 'plan_configuration': 'category',\\\n",
        "                                                                           'has_superstructure_adobe_mud': 'boolean', 'has_superstructure_mud_mortar_stone': 'boolean', \\\n",
        "                                                                           'has_superstructure_stone_flag': 'boolean', 'has_superstructure_cement_mortar_stone': 'boolean',\\\n",
        "                                                                           'has_superstructure_mud_mortar_brick': 'boolean', 'has_superstructure_cement_mortar_brick': 'boolean',\\\n",
        "                                                                           'has_superstructure_timber': 'boolean', 'has_superstructure_bamboo': 'boolean',\\\n",
        "                                                                           'has_superstructure_rc_non_engineered': 'boolean', 'has_superstructure_rc_engineered': 'boolean',\\\n",
        "                                                                           'has_superstructure_other': 'boolean', 'legal_ownership_status': 'category', 'count_families': 'int64', \\\n",
        "                                                                           'has_secondary_use': 'boolean', 'has_secondary_use_agriculture': 'boolean', 'has_secondary_use_hotel': 'boolean', \\\n",
        "                                                                           'has_secondary_use_rental': 'boolean', 'has_secondary_use_institution': 'boolean', 'has_secondary_use_school': 'boolean',\\\n",
        "                                                                           'has_secondary_use_industry': 'boolean', 'has_secondary_use_health_post': 'boolean', \\\n",
        "                                                                           'has_secondary_use_gov_office': 'boolean', 'has_secondary_use_use_police': 'boolean', 'has_secondary_use_other': 'boolean'})"
      ],
      "execution_count": 8,
      "outputs": []
    },
    {
      "cell_type": "code",
      "metadata": {
        "id": "HlYMjPJ-KEeK"
      },
      "source": [
        "train_set = train_values.merge(train_labels, on='building_id')\n",
        "test_set = test_values"
      ],
      "execution_count": 85,
      "outputs": []
    },
    {
      "cell_type": "markdown",
      "metadata": {
        "id": "PH4hGCrcIDmo"
      },
      "source": [
        "# Feature Engineering"
      ]
    },
    {
      "cell_type": "markdown",
      "metadata": {
        "id": "CsNbhc3QIDmo"
      },
      "source": [
        "## Impacto en su zona geográfica:"
      ]
    },
    {
      "cell_type": "code",
      "metadata": {
        "colab": {
          "base_uri": "https://localhost:8080/",
          "height": 359
        },
        "id": "b7AqY14MxO2q",
        "outputId": "4978a8f6-b5be-47af-98dd-38479927495e"
      },
      "source": [
        "geo_levels = train_set[['geo_level_1_id', 'geo_level_2_id', 'geo_level_3_id', 'damage_grade']].reset_index()\n",
        "geo_levels.head(10)"
      ],
      "execution_count": 63,
      "outputs": [
        {
          "output_type": "execute_result",
          "data": {
            "text/html": [
              "<div>\n",
              "<style scoped>\n",
              "    .dataframe tbody tr th:only-of-type {\n",
              "        vertical-align: middle;\n",
              "    }\n",
              "\n",
              "    .dataframe tbody tr th {\n",
              "        vertical-align: top;\n",
              "    }\n",
              "\n",
              "    .dataframe thead th {\n",
              "        text-align: right;\n",
              "    }\n",
              "</style>\n",
              "<table border=\"1\" class=\"dataframe\">\n",
              "  <thead>\n",
              "    <tr style=\"text-align: right;\">\n",
              "      <th></th>\n",
              "      <th>building_id</th>\n",
              "      <th>geo_level_1_id</th>\n",
              "      <th>geo_level_2_id</th>\n",
              "      <th>geo_level_3_id</th>\n",
              "      <th>damage_grade</th>\n",
              "    </tr>\n",
              "  </thead>\n",
              "  <tbody>\n",
              "    <tr>\n",
              "      <th>0</th>\n",
              "      <td>802906</td>\n",
              "      <td>6</td>\n",
              "      <td>487</td>\n",
              "      <td>12198</td>\n",
              "      <td>3</td>\n",
              "    </tr>\n",
              "    <tr>\n",
              "      <th>1</th>\n",
              "      <td>28830</td>\n",
              "      <td>8</td>\n",
              "      <td>900</td>\n",
              "      <td>2812</td>\n",
              "      <td>2</td>\n",
              "    </tr>\n",
              "    <tr>\n",
              "      <th>2</th>\n",
              "      <td>94947</td>\n",
              "      <td>21</td>\n",
              "      <td>363</td>\n",
              "      <td>8973</td>\n",
              "      <td>3</td>\n",
              "    </tr>\n",
              "    <tr>\n",
              "      <th>3</th>\n",
              "      <td>590882</td>\n",
              "      <td>22</td>\n",
              "      <td>418</td>\n",
              "      <td>10694</td>\n",
              "      <td>2</td>\n",
              "    </tr>\n",
              "    <tr>\n",
              "      <th>4</th>\n",
              "      <td>201944</td>\n",
              "      <td>11</td>\n",
              "      <td>131</td>\n",
              "      <td>1488</td>\n",
              "      <td>3</td>\n",
              "    </tr>\n",
              "    <tr>\n",
              "      <th>5</th>\n",
              "      <td>333020</td>\n",
              "      <td>8</td>\n",
              "      <td>558</td>\n",
              "      <td>6089</td>\n",
              "      <td>2</td>\n",
              "    </tr>\n",
              "    <tr>\n",
              "      <th>6</th>\n",
              "      <td>728451</td>\n",
              "      <td>9</td>\n",
              "      <td>475</td>\n",
              "      <td>12066</td>\n",
              "      <td>3</td>\n",
              "    </tr>\n",
              "    <tr>\n",
              "      <th>7</th>\n",
              "      <td>475515</td>\n",
              "      <td>20</td>\n",
              "      <td>323</td>\n",
              "      <td>12236</td>\n",
              "      <td>1</td>\n",
              "    </tr>\n",
              "    <tr>\n",
              "      <th>8</th>\n",
              "      <td>441126</td>\n",
              "      <td>0</td>\n",
              "      <td>757</td>\n",
              "      <td>7219</td>\n",
              "      <td>2</td>\n",
              "    </tr>\n",
              "    <tr>\n",
              "      <th>9</th>\n",
              "      <td>989500</td>\n",
              "      <td>26</td>\n",
              "      <td>886</td>\n",
              "      <td>994</td>\n",
              "      <td>1</td>\n",
              "    </tr>\n",
              "  </tbody>\n",
              "</table>\n",
              "</div>"
            ],
            "text/plain": [
              "   building_id  geo_level_1_id  geo_level_2_id  geo_level_3_id  damage_grade\n",
              "0       802906               6             487           12198             3\n",
              "1        28830               8             900            2812             2\n",
              "2        94947              21             363            8973             3\n",
              "3       590882              22             418           10694             2\n",
              "4       201944              11             131            1488             3\n",
              "5       333020               8             558            6089             2\n",
              "6       728451               9             475           12066             3\n",
              "7       475515              20             323           12236             1\n",
              "8       441126               0             757            7219             2\n",
              "9       989500              26             886             994             1"
            ]
          },
          "metadata": {
            "tags": []
          },
          "execution_count": 63
        }
      ]
    },
    {
      "cell_type": "markdown",
      "metadata": {
        "id": "ykD8shcsw4qO"
      },
      "source": [
        "### Promedio del daño en cada zona:"
      ]
    },
    {
      "cell_type": "code",
      "metadata": {
        "id": "l-m0bOa5xK0s"
      },
      "source": [
        "#media de daño por cada zona\n",
        "damage_avg_1 = geo_levels.groupby('geo_level_1_id')['damage_grade'].mean()\n",
        "damage_avg_2 = geo_levels.groupby('geo_level_2_id')['damage_grade'].mean()\n",
        "damage_avg_3 = geo_levels.groupby('geo_level_3_id')['damage_grade'].mean()"
      ],
      "execution_count": 64,
      "outputs": []
    },
    {
      "cell_type": "code",
      "metadata": {
        "colab": {
          "base_uri": "https://localhost:8080/"
        },
        "id": "zFc2VME2xT7i",
        "outputId": "72fc94ef-811b-4a52-a4f3-2dc0e233390e"
      },
      "source": [
        "damage_avg_1.rename('damage_avg_geo_level_1_id', inplace=True)\n",
        "damage_avg_2.rename('damage_avg_geo_level_2_id', inplace=True)\n",
        "damage_avg_3.rename('damage_avg_geo_level_3_id', inplace=True)"
      ],
      "execution_count": 65,
      "outputs": [
        {
          "output_type": "execute_result",
          "data": {
            "text/plain": [
              "geo_level_3_id\n",
              "0        3.000000\n",
              "1        2.500000\n",
              "3        1.888889\n",
              "5        1.142857\n",
              "6        2.523810\n",
              "           ...   \n",
              "12562    2.000000\n",
              "12563    2.041667\n",
              "12564    2.000000\n",
              "12565    1.285714\n",
              "12567    2.000000\n",
              "Name: damage_avg_geo_level_3_id, Length: 11595, dtype: float64"
            ]
          },
          "metadata": {
            "tags": []
          },
          "execution_count": 65
        }
      ]
    },
    {
      "cell_type": "code",
      "metadata": {
        "id": "n_VykkmVxZvK"
      },
      "source": [
        "geo_levels = geo_levels\\\n",
        "        .merge(damage_avg_1, on='geo_level_1_id')\\\n",
        "        .merge(damage_avg_2, on='geo_level_2_id')\\\n",
        "        .merge(damage_avg_3, on='geo_level_3_id')"
      ],
      "execution_count": 66,
      "outputs": []
    },
    {
      "cell_type": "markdown",
      "metadata": {
        "id": "ysx1yR2_w_8s"
      },
      "source": [
        "### Qué daño es mayoritario en cada zona:"
      ]
    },
    {
      "cell_type": "code",
      "metadata": {
        "id": "zU8UA7zZxhWA"
      },
      "source": [
        "#valor más común de daño por zona\n",
        "damage_mode_1 = geo_levels.groupby('geo_level_1_id')['damage_grade'].agg(lambda x:x.mode())\n",
        "damage_mode_2 = geo_levels.groupby('geo_level_2_id').agg({'damage_grade': lambda x: list(x.mode())})['damage_grade'].map(lambda x: x[0])\n",
        "damage_mode_3 = geo_levels.groupby('geo_level_3_id').agg({'damage_grade': lambda x: list(x.mode())})['damage_grade'].map(lambda x: x[0])"
      ],
      "execution_count": 67,
      "outputs": []
    },
    {
      "cell_type": "code",
      "metadata": {
        "colab": {
          "base_uri": "https://localhost:8080/"
        },
        "id": "vpquNMoTxlrE",
        "outputId": "60771e14-836c-4577-8d83-059f69d436b6"
      },
      "source": [
        "damage_mode_1.rename('damage_mode_geo_level_1_id', inplace=True)\n",
        "damage_mode_2.rename('damage_mode_geo_level_2_id', inplace=True)\n",
        "damage_mode_3.rename('damage_mode_geo_level_3_id', inplace=True)"
      ],
      "execution_count": 68,
      "outputs": [
        {
          "output_type": "execute_result",
          "data": {
            "text/plain": [
              "geo_level_3_id\n",
              "0        3\n",
              "1        3\n",
              "3        2\n",
              "5        1\n",
              "6        3\n",
              "        ..\n",
              "12562    2\n",
              "12563    2\n",
              "12564    2\n",
              "12565    1\n",
              "12567    2\n",
              "Name: damage_mode_geo_level_3_id, Length: 11595, dtype: int64"
            ]
          },
          "metadata": {
            "tags": []
          },
          "execution_count": 68
        }
      ]
    },
    {
      "cell_type": "code",
      "metadata": {
        "id": "DKkLHnTixpYD"
      },
      "source": [
        "geo_levels = geo_levels\\\n",
        "        .merge(damage_mode_1, on='geo_level_1_id')\\\n",
        "        .merge(damage_mode_2, on='geo_level_2_id')\\\n",
        "        .merge(damage_mode_3, on='geo_level_3_id')"
      ],
      "execution_count": 69,
      "outputs": []
    },
    {
      "cell_type": "markdown",
      "metadata": {
        "id": "s8Eh7cS9xDaP"
      },
      "source": [
        "### Promedio de cuánto hay de cada daño por cada zona:"
      ]
    },
    {
      "cell_type": "code",
      "metadata": {
        "id": "9-C2I3YrTPmK"
      },
      "source": [
        "#porcentaje de edificios con daño 1 por zona\n",
        "damage_percentage_1 = geo_levels\\\n",
        "        .groupby('geo_level_1_id')\\\n",
        "        .agg({'damage_grade': [lambda x: (x==1).mean(), lambda x: (x==2).mean(), lambda x: (x==3).mean()]})\n",
        "\n",
        "damage_percentage_2 = geo_levels\\\n",
        "        .groupby('geo_level_2_id')\\\n",
        "        .agg({'damage_grade': [lambda x: (x==1).mean(), lambda x: (x==2).mean(), lambda x: (x==3).mean()]})\n",
        "\n",
        "damage_percentage_3 = geo_levels\\\n",
        "        .groupby('geo_level_3_id')\\\n",
        "        .agg({'damage_grade': [lambda x: (x==1).mean(), lambda x: (x==2).mean(), lambda x: (x==3).mean()]})"
      ],
      "execution_count": 70,
      "outputs": []
    },
    {
      "cell_type": "code",
      "metadata": {
        "id": "kiA7YmIUxvwV"
      },
      "source": [
        "#para no compilar varias veces lo de arriba porque tarda\n",
        "dm_prct1 = damage_percentage_1\n",
        "dm_prct2 = damage_percentage_2\n",
        "dm_prct3 = damage_percentage_3"
      ],
      "execution_count": 71,
      "outputs": []
    },
    {
      "cell_type": "code",
      "metadata": {
        "id": "QNLgnjvJpQsb"
      },
      "source": [
        "dmg_percentage = [dm_prct1, dm_prct2, dm_prct3]\n",
        "\n",
        "for i in [0,1,2]:\n",
        "  damage = dmg_percentage[i]\n",
        "  damage.columns = damage.columns.get_level_values(0) + damage.columns.get_level_values(1)\n",
        "  damage\\\n",
        "  .rename(columns={'damage_grade<lambda_0>': 'percentage_damage_1_level_'+str(i+1)+'_id',\\\n",
        "                   'damage_grade<lambda_1>': 'percentage_damage_2_level_'+str(i+1)+'_id', \\\n",
        "                   'damage_grade<lambda_2>': 'percentage_damage_3_level_'+str(i+1)+'_id'}, inplace=True)\n",
        "  damage.reset_index(inplace=True)\n",
        "\n"
      ],
      "execution_count": 72,
      "outputs": []
    },
    {
      "cell_type": "code",
      "metadata": {
        "colab": {
          "base_uri": "https://localhost:8080/",
          "height": 80
        },
        "id": "V3FitgHWsYyi",
        "outputId": "3c8ad5be-9dde-4af8-fb48-854c021370ac"
      },
      "source": [
        "dm_prct3.head(1)"
      ],
      "execution_count": 75,
      "outputs": [
        {
          "output_type": "execute_result",
          "data": {
            "text/html": [
              "<div>\n",
              "<style scoped>\n",
              "    .dataframe tbody tr th:only-of-type {\n",
              "        vertical-align: middle;\n",
              "    }\n",
              "\n",
              "    .dataframe tbody tr th {\n",
              "        vertical-align: top;\n",
              "    }\n",
              "\n",
              "    .dataframe thead th {\n",
              "        text-align: right;\n",
              "    }\n",
              "</style>\n",
              "<table border=\"1\" class=\"dataframe\">\n",
              "  <thead>\n",
              "    <tr style=\"text-align: right;\">\n",
              "      <th></th>\n",
              "      <th>geo_level_3_id</th>\n",
              "      <th>percentage_damage_1_level_3_id</th>\n",
              "      <th>percentage_damage_2_level_3_id</th>\n",
              "      <th>percentage_damage_3_level_3_id</th>\n",
              "    </tr>\n",
              "  </thead>\n",
              "  <tbody>\n",
              "    <tr>\n",
              "      <th>0</th>\n",
              "      <td>0</td>\n",
              "      <td>0.0</td>\n",
              "      <td>0.0</td>\n",
              "      <td>1.0</td>\n",
              "    </tr>\n",
              "  </tbody>\n",
              "</table>\n",
              "</div>"
            ],
            "text/plain": [
              "   geo_level_3_id  ...  percentage_damage_3_level_3_id\n",
              "0               0  ...                             1.0\n",
              "\n",
              "[1 rows x 4 columns]"
            ]
          },
          "metadata": {
            "tags": []
          },
          "execution_count": 75
        }
      ]
    },
    {
      "cell_type": "code",
      "metadata": {
        "id": "K-rnJlpHrSUM"
      },
      "source": [
        "geo_levels= geo_levels\\\n",
        "        .merge(dm_prct1, on='geo_level_1_id')\\\n",
        "        .merge(dm_prct2, on='geo_level_2_id')\\\n",
        "        .merge(dm_prct3, on='geo_level_3_id')"
      ],
      "execution_count": 76,
      "outputs": []
    },
    {
      "cell_type": "code",
      "metadata": {
        "colab": {
          "base_uri": "https://localhost:8080/",
          "height": 224
        },
        "id": "OaLYfDErrWNP",
        "outputId": "3b9f063b-9ae5-45dc-e61d-77f0425c7ac1"
      },
      "source": [
        "geo_levels.head(5)"
      ],
      "execution_count": 77,
      "outputs": [
        {
          "output_type": "execute_result",
          "data": {
            "text/html": [
              "<div>\n",
              "<style scoped>\n",
              "    .dataframe tbody tr th:only-of-type {\n",
              "        vertical-align: middle;\n",
              "    }\n",
              "\n",
              "    .dataframe tbody tr th {\n",
              "        vertical-align: top;\n",
              "    }\n",
              "\n",
              "    .dataframe thead th {\n",
              "        text-align: right;\n",
              "    }\n",
              "</style>\n",
              "<table border=\"1\" class=\"dataframe\">\n",
              "  <thead>\n",
              "    <tr style=\"text-align: right;\">\n",
              "      <th></th>\n",
              "      <th>building_id</th>\n",
              "      <th>geo_level_1_id</th>\n",
              "      <th>geo_level_2_id</th>\n",
              "      <th>geo_level_3_id</th>\n",
              "      <th>damage_grade</th>\n",
              "      <th>damage_avg_geo_level_1_id</th>\n",
              "      <th>damage_avg_geo_level_2_id</th>\n",
              "      <th>damage_avg_geo_level_3_id</th>\n",
              "      <th>damage_mode_geo_level_1_id</th>\n",
              "      <th>damage_mode_geo_level_2_id</th>\n",
              "      <th>damage_mode_geo_level_3_id</th>\n",
              "      <th>percentage_damage_1_level_1_id</th>\n",
              "      <th>percentage_damage_2_level_1_id</th>\n",
              "      <th>percentage_damage_3_level_1_id</th>\n",
              "      <th>percentage_damage_1_level_2_id</th>\n",
              "      <th>percentage_damage_2_level_2_id</th>\n",
              "      <th>percentage_damage_3_level_2_id</th>\n",
              "      <th>percentage_damage_1_level_3_id</th>\n",
              "      <th>percentage_damage_2_level_3_id</th>\n",
              "      <th>percentage_damage_3_level_3_id</th>\n",
              "    </tr>\n",
              "  </thead>\n",
              "  <tbody>\n",
              "    <tr>\n",
              "      <th>0</th>\n",
              "      <td>802906</td>\n",
              "      <td>6</td>\n",
              "      <td>487</td>\n",
              "      <td>12198</td>\n",
              "      <td>3</td>\n",
              "      <td>2.161724</td>\n",
              "      <td>2.740741</td>\n",
              "      <td>2.837838</td>\n",
              "      <td>2</td>\n",
              "      <td>3</td>\n",
              "      <td>3</td>\n",
              "      <td>0.086461</td>\n",
              "      <td>0.665354</td>\n",
              "      <td>0.248185</td>\n",
              "      <td>0.003704</td>\n",
              "      <td>0.251852</td>\n",
              "      <td>0.744444</td>\n",
              "      <td>0.0</td>\n",
              "      <td>0.162162</td>\n",
              "      <td>0.837838</td>\n",
              "    </tr>\n",
              "    <tr>\n",
              "      <th>1</th>\n",
              "      <td>959468</td>\n",
              "      <td>6</td>\n",
              "      <td>487</td>\n",
              "      <td>12198</td>\n",
              "      <td>3</td>\n",
              "      <td>2.161724</td>\n",
              "      <td>2.740741</td>\n",
              "      <td>2.837838</td>\n",
              "      <td>2</td>\n",
              "      <td>3</td>\n",
              "      <td>3</td>\n",
              "      <td>0.086461</td>\n",
              "      <td>0.665354</td>\n",
              "      <td>0.248185</td>\n",
              "      <td>0.003704</td>\n",
              "      <td>0.251852</td>\n",
              "      <td>0.744444</td>\n",
              "      <td>0.0</td>\n",
              "      <td>0.162162</td>\n",
              "      <td>0.837838</td>\n",
              "    </tr>\n",
              "    <tr>\n",
              "      <th>2</th>\n",
              "      <td>215003</td>\n",
              "      <td>6</td>\n",
              "      <td>487</td>\n",
              "      <td>12198</td>\n",
              "      <td>3</td>\n",
              "      <td>2.161724</td>\n",
              "      <td>2.740741</td>\n",
              "      <td>2.837838</td>\n",
              "      <td>2</td>\n",
              "      <td>3</td>\n",
              "      <td>3</td>\n",
              "      <td>0.086461</td>\n",
              "      <td>0.665354</td>\n",
              "      <td>0.248185</td>\n",
              "      <td>0.003704</td>\n",
              "      <td>0.251852</td>\n",
              "      <td>0.744444</td>\n",
              "      <td>0.0</td>\n",
              "      <td>0.162162</td>\n",
              "      <td>0.837838</td>\n",
              "    </tr>\n",
              "    <tr>\n",
              "      <th>3</th>\n",
              "      <td>302373</td>\n",
              "      <td>6</td>\n",
              "      <td>487</td>\n",
              "      <td>12198</td>\n",
              "      <td>3</td>\n",
              "      <td>2.161724</td>\n",
              "      <td>2.740741</td>\n",
              "      <td>2.837838</td>\n",
              "      <td>2</td>\n",
              "      <td>3</td>\n",
              "      <td>3</td>\n",
              "      <td>0.086461</td>\n",
              "      <td>0.665354</td>\n",
              "      <td>0.248185</td>\n",
              "      <td>0.003704</td>\n",
              "      <td>0.251852</td>\n",
              "      <td>0.744444</td>\n",
              "      <td>0.0</td>\n",
              "      <td>0.162162</td>\n",
              "      <td>0.837838</td>\n",
              "    </tr>\n",
              "    <tr>\n",
              "      <th>4</th>\n",
              "      <td>820534</td>\n",
              "      <td>6</td>\n",
              "      <td>487</td>\n",
              "      <td>12198</td>\n",
              "      <td>3</td>\n",
              "      <td>2.161724</td>\n",
              "      <td>2.740741</td>\n",
              "      <td>2.837838</td>\n",
              "      <td>2</td>\n",
              "      <td>3</td>\n",
              "      <td>3</td>\n",
              "      <td>0.086461</td>\n",
              "      <td>0.665354</td>\n",
              "      <td>0.248185</td>\n",
              "      <td>0.003704</td>\n",
              "      <td>0.251852</td>\n",
              "      <td>0.744444</td>\n",
              "      <td>0.0</td>\n",
              "      <td>0.162162</td>\n",
              "      <td>0.837838</td>\n",
              "    </tr>\n",
              "  </tbody>\n",
              "</table>\n",
              "</div>"
            ],
            "text/plain": [
              "   building_id  ...  percentage_damage_3_level_3_id\n",
              "0       802906  ...                        0.837838\n",
              "1       959468  ...                        0.837838\n",
              "2       215003  ...                        0.837838\n",
              "3       302373  ...                        0.837838\n",
              "4       820534  ...                        0.837838\n",
              "\n",
              "[5 rows x 20 columns]"
            ]
          },
          "metadata": {
            "tags": []
          },
          "execution_count": 77
        }
      ]
    },
    {
      "cell_type": "markdown",
      "metadata": {
        "id": "MPMQgEkmyaoG"
      },
      "source": [
        "### Agrego los nuevos Features"
      ]
    },
    {
      "cell_type": "code",
      "metadata": {
        "colab": {
          "base_uri": "https://localhost:8080/",
          "height": 224
        },
        "id": "4f14G1eIyVt9",
        "outputId": "00bd52c4-9d3f-4e90-ebe7-75f422761f90"
      },
      "source": [
        "new_features = ['building_id', 'damage_avg_geo_level_1_id', 'damage_avg_geo_level_2_id', 'damage_avg_geo_level_3_id',\\\n",
        "                'damage_mode_geo_level_1_id', 'damage_mode_geo_level_2_id', 'damage_mode_geo_level_3_id',\\\n",
        "                'percentage_damage_1_level_1_id', 'percentage_damage_2_level_1_id', 'percentage_damage_3_level_1_id',\n",
        "                'percentage_damage_1_level_2_id', 'percentage_damage_2_level_2_id', 'percentage_damage_3_level_2_id',\n",
        "                'percentage_damage_1_level_3_id', 'percentage_damage_2_level_3_id', 'percentage_damage_3_level_3_id'\n",
        "                ]\n",
        "geo_levels.reset_index(inplace=True)\n",
        "train_set.reset_index(inplace=True)\n",
        "\n",
        "train_set = train_set.merge(geo_levels[new_features], on='building_id')\n",
        "train_set.head(5)"
      ],
      "execution_count": 96,
      "outputs": [
        {
          "output_type": "execute_result",
          "data": {
            "text/html": [
              "<div>\n",
              "<style scoped>\n",
              "    .dataframe tbody tr th:only-of-type {\n",
              "        vertical-align: middle;\n",
              "    }\n",
              "\n",
              "    .dataframe tbody tr th {\n",
              "        vertical-align: top;\n",
              "    }\n",
              "\n",
              "    .dataframe thead th {\n",
              "        text-align: right;\n",
              "    }\n",
              "</style>\n",
              "<table border=\"1\" class=\"dataframe\">\n",
              "  <thead>\n",
              "    <tr style=\"text-align: right;\">\n",
              "      <th></th>\n",
              "      <th>building_id</th>\n",
              "      <th>geo_level_1_id</th>\n",
              "      <th>geo_level_2_id</th>\n",
              "      <th>geo_level_3_id</th>\n",
              "      <th>count_floors_pre_eq</th>\n",
              "      <th>age</th>\n",
              "      <th>area_percentage</th>\n",
              "      <th>height_percentage</th>\n",
              "      <th>land_surface_condition</th>\n",
              "      <th>foundation_type</th>\n",
              "      <th>roof_type</th>\n",
              "      <th>ground_floor_type</th>\n",
              "      <th>other_floor_type</th>\n",
              "      <th>position</th>\n",
              "      <th>plan_configuration</th>\n",
              "      <th>has_superstructure_adobe_mud</th>\n",
              "      <th>has_superstructure_mud_mortar_stone</th>\n",
              "      <th>has_superstructure_stone_flag</th>\n",
              "      <th>has_superstructure_cement_mortar_stone</th>\n",
              "      <th>has_superstructure_mud_mortar_brick</th>\n",
              "      <th>has_superstructure_cement_mortar_brick</th>\n",
              "      <th>has_superstructure_timber</th>\n",
              "      <th>has_superstructure_bamboo</th>\n",
              "      <th>has_superstructure_rc_non_engineered</th>\n",
              "      <th>has_superstructure_rc_engineered</th>\n",
              "      <th>has_superstructure_other</th>\n",
              "      <th>legal_ownership_status</th>\n",
              "      <th>count_families</th>\n",
              "      <th>has_secondary_use</th>\n",
              "      <th>has_secondary_use_agriculture</th>\n",
              "      <th>has_secondary_use_hotel</th>\n",
              "      <th>has_secondary_use_rental</th>\n",
              "      <th>has_secondary_use_institution</th>\n",
              "      <th>has_secondary_use_school</th>\n",
              "      <th>has_secondary_use_industry</th>\n",
              "      <th>has_secondary_use_health_post</th>\n",
              "      <th>has_secondary_use_gov_office</th>\n",
              "      <th>has_secondary_use_use_police</th>\n",
              "      <th>has_secondary_use_other</th>\n",
              "      <th>damage_grade</th>\n",
              "      <th>damage_avg_geo_level_1_id</th>\n",
              "      <th>damage_avg_geo_level_2_id</th>\n",
              "      <th>damage_avg_geo_level_3_id</th>\n",
              "      <th>damage_mode_geo_level_1_id</th>\n",
              "      <th>damage_mode_geo_level_2_id</th>\n",
              "      <th>damage_mode_geo_level_3_id</th>\n",
              "      <th>percentage_damage_1_level_1_id</th>\n",
              "      <th>percentage_damage_2_level_1_id</th>\n",
              "      <th>percentage_damage_3_level_1_id</th>\n",
              "      <th>percentage_damage_1_level_2_id</th>\n",
              "      <th>percentage_damage_2_level_2_id</th>\n",
              "      <th>percentage_damage_3_level_2_id</th>\n",
              "      <th>percentage_damage_1_level_3_id</th>\n",
              "      <th>percentage_damage_2_level_3_id</th>\n",
              "      <th>percentage_damage_3_level_3_id</th>\n",
              "    </tr>\n",
              "  </thead>\n",
              "  <tbody>\n",
              "    <tr>\n",
              "      <th>0</th>\n",
              "      <td>802906</td>\n",
              "      <td>6</td>\n",
              "      <td>487</td>\n",
              "      <td>12198</td>\n",
              "      <td>2</td>\n",
              "      <td>30</td>\n",
              "      <td>6</td>\n",
              "      <td>5</td>\n",
              "      <td>t</td>\n",
              "      <td>r</td>\n",
              "      <td>n</td>\n",
              "      <td>f</td>\n",
              "      <td>q</td>\n",
              "      <td>t</td>\n",
              "      <td>d</td>\n",
              "      <td>True</td>\n",
              "      <td>True</td>\n",
              "      <td>False</td>\n",
              "      <td>False</td>\n",
              "      <td>False</td>\n",
              "      <td>False</td>\n",
              "      <td>False</td>\n",
              "      <td>False</td>\n",
              "      <td>False</td>\n",
              "      <td>False</td>\n",
              "      <td>False</td>\n",
              "      <td>v</td>\n",
              "      <td>1</td>\n",
              "      <td>False</td>\n",
              "      <td>False</td>\n",
              "      <td>False</td>\n",
              "      <td>False</td>\n",
              "      <td>False</td>\n",
              "      <td>False</td>\n",
              "      <td>False</td>\n",
              "      <td>False</td>\n",
              "      <td>False</td>\n",
              "      <td>False</td>\n",
              "      <td>False</td>\n",
              "      <td>3</td>\n",
              "      <td>2.161724</td>\n",
              "      <td>2.740741</td>\n",
              "      <td>2.837838</td>\n",
              "      <td>2</td>\n",
              "      <td>3</td>\n",
              "      <td>3</td>\n",
              "      <td>0.086461</td>\n",
              "      <td>0.665354</td>\n",
              "      <td>0.248185</td>\n",
              "      <td>0.003704</td>\n",
              "      <td>0.251852</td>\n",
              "      <td>0.744444</td>\n",
              "      <td>0.000000</td>\n",
              "      <td>0.162162</td>\n",
              "      <td>0.837838</td>\n",
              "    </tr>\n",
              "    <tr>\n",
              "      <th>1</th>\n",
              "      <td>28830</td>\n",
              "      <td>8</td>\n",
              "      <td>900</td>\n",
              "      <td>2812</td>\n",
              "      <td>2</td>\n",
              "      <td>10</td>\n",
              "      <td>8</td>\n",
              "      <td>7</td>\n",
              "      <td>o</td>\n",
              "      <td>r</td>\n",
              "      <td>n</td>\n",
              "      <td>x</td>\n",
              "      <td>q</td>\n",
              "      <td>s</td>\n",
              "      <td>d</td>\n",
              "      <td>False</td>\n",
              "      <td>True</td>\n",
              "      <td>False</td>\n",
              "      <td>False</td>\n",
              "      <td>False</td>\n",
              "      <td>False</td>\n",
              "      <td>False</td>\n",
              "      <td>False</td>\n",
              "      <td>False</td>\n",
              "      <td>False</td>\n",
              "      <td>False</td>\n",
              "      <td>v</td>\n",
              "      <td>1</td>\n",
              "      <td>False</td>\n",
              "      <td>False</td>\n",
              "      <td>False</td>\n",
              "      <td>False</td>\n",
              "      <td>False</td>\n",
              "      <td>False</td>\n",
              "      <td>False</td>\n",
              "      <td>False</td>\n",
              "      <td>False</td>\n",
              "      <td>False</td>\n",
              "      <td>False</td>\n",
              "      <td>2</td>\n",
              "      <td>2.485273</td>\n",
              "      <td>2.487437</td>\n",
              "      <td>2.062500</td>\n",
              "      <td>3</td>\n",
              "      <td>3</td>\n",
              "      <td>2</td>\n",
              "      <td>0.034277</td>\n",
              "      <td>0.446174</td>\n",
              "      <td>0.519549</td>\n",
              "      <td>0.010050</td>\n",
              "      <td>0.492462</td>\n",
              "      <td>0.497487</td>\n",
              "      <td>0.062500</td>\n",
              "      <td>0.812500</td>\n",
              "      <td>0.125000</td>\n",
              "    </tr>\n",
              "    <tr>\n",
              "      <th>2</th>\n",
              "      <td>94947</td>\n",
              "      <td>21</td>\n",
              "      <td>363</td>\n",
              "      <td>8973</td>\n",
              "      <td>2</td>\n",
              "      <td>10</td>\n",
              "      <td>5</td>\n",
              "      <td>5</td>\n",
              "      <td>t</td>\n",
              "      <td>r</td>\n",
              "      <td>n</td>\n",
              "      <td>f</td>\n",
              "      <td>x</td>\n",
              "      <td>t</td>\n",
              "      <td>d</td>\n",
              "      <td>False</td>\n",
              "      <td>True</td>\n",
              "      <td>False</td>\n",
              "      <td>False</td>\n",
              "      <td>False</td>\n",
              "      <td>False</td>\n",
              "      <td>False</td>\n",
              "      <td>False</td>\n",
              "      <td>False</td>\n",
              "      <td>False</td>\n",
              "      <td>False</td>\n",
              "      <td>v</td>\n",
              "      <td>1</td>\n",
              "      <td>False</td>\n",
              "      <td>False</td>\n",
              "      <td>False</td>\n",
              "      <td>False</td>\n",
              "      <td>False</td>\n",
              "      <td>False</td>\n",
              "      <td>False</td>\n",
              "      <td>False</td>\n",
              "      <td>False</td>\n",
              "      <td>False</td>\n",
              "      <td>False</td>\n",
              "      <td>3</td>\n",
              "      <td>2.563369</td>\n",
              "      <td>2.518750</td>\n",
              "      <td>2.580882</td>\n",
              "      <td>3</td>\n",
              "      <td>3</td>\n",
              "      <td>3</td>\n",
              "      <td>0.021627</td>\n",
              "      <td>0.393378</td>\n",
              "      <td>0.584996</td>\n",
              "      <td>0.082386</td>\n",
              "      <td>0.316477</td>\n",
              "      <td>0.601136</td>\n",
              "      <td>0.029412</td>\n",
              "      <td>0.360294</td>\n",
              "      <td>0.610294</td>\n",
              "    </tr>\n",
              "    <tr>\n",
              "      <th>3</th>\n",
              "      <td>590882</td>\n",
              "      <td>22</td>\n",
              "      <td>418</td>\n",
              "      <td>10694</td>\n",
              "      <td>2</td>\n",
              "      <td>10</td>\n",
              "      <td>6</td>\n",
              "      <td>5</td>\n",
              "      <td>t</td>\n",
              "      <td>r</td>\n",
              "      <td>n</td>\n",
              "      <td>f</td>\n",
              "      <td>x</td>\n",
              "      <td>s</td>\n",
              "      <td>d</td>\n",
              "      <td>False</td>\n",
              "      <td>True</td>\n",
              "      <td>False</td>\n",
              "      <td>False</td>\n",
              "      <td>False</td>\n",
              "      <td>False</td>\n",
              "      <td>True</td>\n",
              "      <td>True</td>\n",
              "      <td>False</td>\n",
              "      <td>False</td>\n",
              "      <td>False</td>\n",
              "      <td>v</td>\n",
              "      <td>1</td>\n",
              "      <td>False</td>\n",
              "      <td>False</td>\n",
              "      <td>False</td>\n",
              "      <td>False</td>\n",
              "      <td>False</td>\n",
              "      <td>False</td>\n",
              "      <td>False</td>\n",
              "      <td>False</td>\n",
              "      <td>False</td>\n",
              "      <td>False</td>\n",
              "      <td>False</td>\n",
              "      <td>2</td>\n",
              "      <td>2.000960</td>\n",
              "      <td>2.107317</td>\n",
              "      <td>2.096774</td>\n",
              "      <td>2</td>\n",
              "      <td>2</td>\n",
              "      <td>2</td>\n",
              "      <td>0.129718</td>\n",
              "      <td>0.739603</td>\n",
              "      <td>0.130678</td>\n",
              "      <td>0.019512</td>\n",
              "      <td>0.853659</td>\n",
              "      <td>0.126829</td>\n",
              "      <td>0.032258</td>\n",
              "      <td>0.838710</td>\n",
              "      <td>0.129032</td>\n",
              "    </tr>\n",
              "    <tr>\n",
              "      <th>4</th>\n",
              "      <td>201944</td>\n",
              "      <td>11</td>\n",
              "      <td>131</td>\n",
              "      <td>1488</td>\n",
              "      <td>3</td>\n",
              "      <td>30</td>\n",
              "      <td>8</td>\n",
              "      <td>9</td>\n",
              "      <td>t</td>\n",
              "      <td>r</td>\n",
              "      <td>n</td>\n",
              "      <td>f</td>\n",
              "      <td>x</td>\n",
              "      <td>s</td>\n",
              "      <td>d</td>\n",
              "      <td>True</td>\n",
              "      <td>False</td>\n",
              "      <td>False</td>\n",
              "      <td>False</td>\n",
              "      <td>False</td>\n",
              "      <td>False</td>\n",
              "      <td>False</td>\n",
              "      <td>False</td>\n",
              "      <td>False</td>\n",
              "      <td>False</td>\n",
              "      <td>False</td>\n",
              "      <td>v</td>\n",
              "      <td>1</td>\n",
              "      <td>False</td>\n",
              "      <td>False</td>\n",
              "      <td>False</td>\n",
              "      <td>False</td>\n",
              "      <td>False</td>\n",
              "      <td>False</td>\n",
              "      <td>False</td>\n",
              "      <td>False</td>\n",
              "      <td>False</td>\n",
              "      <td>False</td>\n",
              "      <td>False</td>\n",
              "      <td>3</td>\n",
              "      <td>2.337713</td>\n",
              "      <td>2.348748</td>\n",
              "      <td>2.368852</td>\n",
              "      <td>2</td>\n",
              "      <td>2</td>\n",
              "      <td>2</td>\n",
              "      <td>0.046959</td>\n",
              "      <td>0.568370</td>\n",
              "      <td>0.384672</td>\n",
              "      <td>0.029865</td>\n",
              "      <td>0.591522</td>\n",
              "      <td>0.378613</td>\n",
              "      <td>0.008197</td>\n",
              "      <td>0.614754</td>\n",
              "      <td>0.377049</td>\n",
              "    </tr>\n",
              "  </tbody>\n",
              "</table>\n",
              "</div>"
            ],
            "text/plain": [
              "   building_id  ...  percentage_damage_3_level_3_id\n",
              "0       802906  ...                        0.837838\n",
              "1        28830  ...                        0.125000\n",
              "2        94947  ...                        0.610294\n",
              "3       590882  ...                        0.129032\n",
              "4       201944  ...                        0.377049\n",
              "\n",
              "[5 rows x 55 columns]"
            ]
          },
          "metadata": {
            "tags": []
          },
          "execution_count": 96
        }
      ]
    },
    {
      "cell_type": "markdown",
      "metadata": {
        "id": "00p1ZS7jSa1H"
      },
      "source": [
        "## Estado al momento de la construcción"
      ]
    },
    {
      "cell_type": "code",
      "metadata": {
        "id": "IFdZGzyESZ7O"
      },
      "source": [
        "#land_surface_condition, foundation_type, roof_type, ground_floor_type, other_floor_type, position, plan_configuration"
      ],
      "execution_count": null,
      "outputs": []
    },
    {
      "cell_type": "code",
      "metadata": {
        "id": "722jMaBG0zN0"
      },
      "source": [
        ""
      ],
      "execution_count": null,
      "outputs": []
    }
  ]
}